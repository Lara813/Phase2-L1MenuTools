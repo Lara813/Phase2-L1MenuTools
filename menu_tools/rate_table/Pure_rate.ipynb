{
 "cells": [
  {
   "cell_type": "code",
   "execution_count": null,
   "id": "1b8a651b",
   "metadata": {},
   "outputs": [],
   "source": [
    "# import argparse\n",
    "import os, sys\n",
    "\n",
    "import awkward as ak\n",
    "\n",
    "import matplotlib.pyplot as plt\n",
    "import mplhep as hep\n",
    "\n",
    "plt.style.use(hep.style.CMS)\n",
    "\n",
    "from matplotlib.colors import LogNorm\n",
    "\n",
    "# import uproot\n",
    "\n",
    "import numpy as np\n",
    "import pandas as pd\n",
    "\n",
    "from glob import glob"
   ]
  },
  {
   "cell_type": "code",
   "execution_count": null,
   "id": "67769805",
   "metadata": {},
   "outputs": [],
   "source": [
    "plt.rcParams[\"figure.facecolor\"] = \"white\""
   ]
  },
  {
   "cell_type": "markdown",
   "id": "582d9747",
   "metadata": {},
   "source": [
    "# compare masks"
   ]
  },
  {
   "cell_type": "code",
   "execution_count": null,
   "id": "5e91706a",
   "metadata": {},
   "outputs": [],
   "source": [
    "! ls /eos/home-a/alobanov/www/L1T/Phase2/menu/Validation/NewMenuTools/V38nano_DT12x/rate_tables/*.parquet"
   ]
  },
  {
   "cell_type": "code",
   "execution_count": null,
   "id": "92cb4a57",
   "metadata": {},
   "outputs": [],
   "source": [
    "# fname = \"~/cernbox/SWAN_projects/L1T-Ph2-Menu/rates/menu/outputs/new_fwk_rates/V29_fromCache_Full_wBtag/rates_full_wBtag_V29_masks.parquet\"\n",
    "# fname = \"/eos/home-a/alobanov/www/L1T/Phase2/menu/Validation/NewMenuTools/V38nano/rate_tables/rates_full_Final_V38nano_masks.parquet\"\n",
    "# fname = \"/eos/home-a/alobanov/www/L1T/Phase2/menu/Validation/NewMenuTools/V38nano_DT12x/rate_tables/menu_Step1_tkMuVLoose_V38nano_DT12x_masks.parquet\"\n",
    "# fname = \"/eos/home-a/alobanov/www/L1T/Phase2/menu/Validation/NewMenuTools/V38nano_DT12x/rate_tables/menu_Step1_V38nano_DT12x_masks.parquet\"\n",
    "fname = \"/eos/home-a/alobanov/www/L1T/Phase2/menu/Validation/NewMenuTools/V38nano_DT12x/rate_tables/rates_Step1and2_V38nano_DT12x_masks.parquet\""
   ]
  },
  {
   "cell_type": "code",
   "execution_count": null,
   "id": "4e522641",
   "metadata": {},
   "outputs": [],
   "source": [
    "new_masks = ak.from_parquet(fname)"
   ]
  },
  {
   "cell_type": "code",
   "execution_count": null,
   "id": "44712c41",
   "metadata": {},
   "outputs": [],
   "source": [
    "new_masks"
   ]
  },
  {
   "cell_type": "code",
   "execution_count": null,
   "id": "f7a10a4c",
   "metadata": {},
   "outputs": [],
   "source": [
    "%%time\n",
    "# new fwk\n",
    "df_masks = ak.to_dataframe(new_masks)"
   ]
  },
  {
   "cell_type": "markdown",
   "id": "048a9bc0",
   "metadata": {},
   "source": [
    "### Pure"
   ]
  },
  {
   "cell_type": "code",
   "execution_count": null,
   "id": "f3d1bfee",
   "metadata": {},
   "outputs": [],
   "source": [
    "%%time\n",
    "test_seed = \"L1_DoublePFJet_dEtaMax\"\n",
    "\n",
    "or_all_excl_seed = False\n",
    "\n",
    "for seed in new_masks.fields:\n",
    "    if seed == test_seed:\n",
    "        continue\n",
    "\n",
    "    or_all_excl_seed = or_all_excl_seed | new_masks[seed]"
   ]
  },
  {
   "cell_type": "code",
   "execution_count": null,
   "id": "a725d02a",
   "metadata": {},
   "outputs": [],
   "source": [
    "np.sum((or_all_excl_seed == False) & new_masks[seed])"
   ]
  },
  {
   "cell_type": "code",
   "execution_count": null,
   "id": "005dd97c",
   "metadata": {},
   "outputs": [],
   "source": [
    "np.sum(new_masks[seed])"
   ]
  },
  {
   "cell_type": "code",
   "execution_count": null,
   "id": "6ad6c26a",
   "metadata": {},
   "outputs": [],
   "source": [
    "np.sum(or_all_excl_seed)"
   ]
  },
  {
   "cell_type": "code",
   "execution_count": null,
   "id": "058c7b0d",
   "metadata": {},
   "outputs": [],
   "source": [
    "df_masks[seed].sum()"
   ]
  },
  {
   "cell_type": "code",
   "execution_count": null,
   "id": "89bf081b",
   "metadata": {},
   "outputs": [],
   "source": [
    "%%time\n",
    "\n",
    "counts = {}\n",
    "\n",
    "for seed in df_masks.columns:\n",
    "    counts[seed] = {\n",
    "        \"total\": df_masks[seed].sum(),\n",
    "        \"pure\": (\n",
    "            (df_masks[seed] == True) & ~(df_masks.drop(seed, axis=1).any(axis=1))\n",
    "        ).sum(),\n",
    "    }\n",
    "\n",
    "df_counts = pd.DataFrame(counts).T"
   ]
  },
  {
   "cell_type": "code",
   "execution_count": null,
   "id": "a5c409f4",
   "metadata": {},
   "outputs": [],
   "source": [
    "df_counts.sort_values(\"total\", ascending=False)"
   ]
  },
  {
   "cell_type": "code",
   "execution_count": null,
   "id": "7ced193f",
   "metadata": {},
   "outputs": [],
   "source": [
    "df_counts.sort_values(\"total\", ascending=False).plot.barh(figsize=(10, 20))"
   ]
  },
  {
   "cell_type": "code",
   "execution_count": null,
   "id": "7140bb52",
   "metadata": {},
   "outputs": [],
   "source": [
    "ax = df_counts.sort_values(\"total\", ascending=False).plot.barh(figsize=(10, 20))\n",
    "ax.set_xscale(\"log\")"
   ]
  },
  {
   "cell_type": "code",
   "execution_count": null,
   "id": "0f9727ac",
   "metadata": {},
   "outputs": [],
   "source": []
  },
  {
   "cell_type": "code",
   "execution_count": null,
   "id": "21738288",
   "metadata": {},
   "outputs": [],
   "source": [
    "sel = df_counts.index.str.contains(\"Mu\")\n",
    "df_counts[sel].sort_values(\"total\", ascending=False).plot.barh(figsize=(10, 10))"
   ]
  },
  {
   "cell_type": "code",
   "execution_count": null,
   "id": "b444b84a",
   "metadata": {},
   "outputs": [],
   "source": [
    "# df_counts"
   ]
  },
  {
   "cell_type": "code",
   "execution_count": null,
   "id": "ec1e086e",
   "metadata": {},
   "outputs": [],
   "source": [
    "f, axs = plt.subplots(1, 3, figsize=(20, 16), sharey=True)\n",
    "# hep.cms.label(ax=axs[0], llabel=\"Phase-2 Simulation\", rlabel = \"14 TeV\")\n",
    "# hep.cms.label(ax=axs[0], llabel=\"Phase-2 Simulation\")\n",
    "# hep.cms.label(ax=axs[2], label = \"14 TeV\")\n",
    "\n",
    "ax1, ax2, ax3 = axs\n",
    "rate_fact = 11.2 * 2700 / len(df_masks)\n",
    "df = df_counts.sort_values(\"pure\") * rate_fact\n",
    "df.plot(kind=\"barh\", ax=ax1)\n",
    "df.plot(kind=\"barh\", ax=ax2)\n",
    "\n",
    "ax1.set_xlabel(\"L1 Rate [kHz]\")\n",
    "ax1.grid()\n",
    "\n",
    "ax2.set_xscale(\"log\")\n",
    "ax2.set_xlabel(\"L1 Rate [kHz]\")\n",
    "ax2.grid()\n",
    "\n",
    "# pure/total\n",
    "(df.pure / df.total).plot(kind=\"barh\", ax=ax3, legend=False, color=\"C2\")\n",
    "\n",
    "# ax3.set_xscale(\"log\")\n",
    "ax3.set_xlabel(\"Pure/Total\")\n",
    "ax3.grid()\n",
    "\n",
    "\n",
    "plt.subplots_adjust(wspace=0, hspace=0)\n",
    "\n",
    "plt.tight_layout()\n",
    "\n",
    "for ext in [\".png\", \".pdf\"]:\n",
    "    outfname = fname.replace(\".parquet\", f\"_pureRates{ext}\")\n",
    "    plt.savefig(outfname)"
   ]
  },
  {
   "cell_type": "code",
   "execution_count": null,
   "id": "0409d04f",
   "metadata": {},
   "outputs": [],
   "source": []
  },
  {
   "cell_type": "code",
   "execution_count": null,
   "id": "b4b8bb96",
   "metadata": {},
   "outputs": [],
   "source": [
    "outfname"
   ]
  },
  {
   "cell_type": "code",
   "execution_count": null,
   "id": "36a75bd5",
   "metadata": {},
   "outputs": [],
   "source": [
    "! ls /eos/home-a/alobanov/www/L1T/Phase2/menu/Validation/NewMenuTools/V38nano_DT12x/rate_tables/menu_Step1_V38nano_DT12x_masks_pureRates.png"
   ]
  },
  {
   "cell_type": "code",
   "execution_count": null,
   "id": "4e4b3c97",
   "metadata": {},
   "outputs": [],
   "source": [
    "! readlink -f /eos/home-a/alobanov/www/L1T/Phase2/menu/Validation/NewMenuTools/V38nano_DT12x/rate_tables"
   ]
  },
  {
   "cell_type": "code",
   "execution_count": null,
   "id": "d9ddb8fe",
   "metadata": {},
   "outputs": [],
   "source": []
  }
 ],
 "metadata": {
  "@webio": {
   "lastCommId": null,
   "lastKernelId": null
  },
  "kernelspec": {
   "display_name": "Python 3",
   "language": "python",
   "name": "python3"
  },
  "language_info": {
   "codemirror_mode": {
    "name": "ipython",
    "version": 3
   },
   "file_extension": ".py",
   "mimetype": "text/x-python",
   "name": "python",
   "nbconvert_exporter": "python",
   "pygments_lexer": "ipython3",
   "version": "3.11.5"
  }
 },
 "nbformat": 4,
 "nbformat_minor": 5
}
